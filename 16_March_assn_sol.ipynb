{
 "cells": [
  {
   "attachments": {},
   "cell_type": "markdown",
   "metadata": {},
   "source": [
    "`Q1: Define ovefitting and underfitting in machine learning. What are the consequences of each and how can they be mitigated?`\n",
    "\n",
    "`Answer:`\n"
   ]
  },
  {
   "attachments": {},
   "cell_type": "markdown",
   "metadata": {},
   "source": [
    "`Q2: How can we reduce overfitting? Explain in brief.`\n",
    "\n",
    "`Answer:`"
   ]
  },
  {
   "attachments": {},
   "cell_type": "markdown",
   "metadata": {},
   "source": [
    "`Q3: Explain underfitting. List scenarios where underfitting can occur in ML`\n",
    "\n",
    "`Answer`"
   ]
  }
 ],
 "metadata": {
  "language_info": {
   "name": "python"
  },
  "orig_nbformat": 4
 },
 "nbformat": 4,
 "nbformat_minor": 2
}

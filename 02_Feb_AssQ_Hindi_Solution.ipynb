{
  "nbformat": 4,
  "nbformat_minor": 0,
  "metadata": {
    "colab": {
      "provenance": []
    },
    "kernelspec": {
      "name": "python3",
      "display_name": "Python 3"
    },
    "language_info": {
      "name": "python"
    }
  },
  "cells": [
    {
      "cell_type": "markdown",
      "source": [
        "**Q1. Explain with an example each when to use a for loop and a while loop.**"
      ],
      "metadata": {
        "id": "jLRjJrDbXQh-"
      }
    },
    {
      "cell_type": "markdown",
      "source": [
        "Using a for loop is usually the best choice when you need to iterate through a collection of items, like a list or a dictionary. For example, if you need to loop through a list of numbers, you can use the following code: "
      ],
      "metadata": {
        "id": "FkyYYH4ffWjk"
      }
    },
    {
      "cell_type": "code",
      "execution_count": null,
      "metadata": {
        "colab": {
          "base_uri": "https://localhost:8080/"
        },
        "id": "Cvbgp0Z3MgMv",
        "outputId": "8ac981f1-af6a-4917-c627-f73f5c767d1d"
      },
      "outputs": [
        {
          "output_type": "stream",
          "name": "stdout",
          "text": [
            "1\n",
            "2\n",
            "3\n",
            "4\n",
            "5\n"
          ]
        }
      ],
      "source": [
        "numbers = [1, 2, 3, 4, 5] \n",
        "for num in numbers: \n",
        "    print(num) \n",
        "#This will print each number in the list."
      ]
    },
    {
      "cell_type": "markdown",
      "source": [
        "A while loop is best used when you don't know exactly how many times you need to iterate through a loop, or when you need to perform a certain set of instructions until a certain condition is met. For example, if you need to keep asking a user for input until they enter the correct value, you can use a while loop for this:\n",
        "\n"
      ],
      "metadata": {
        "id": "UqKOcyBLfro3"
      }
    },
    {
      "cell_type": "code",
      "source": [
        "correct_input = False \n",
        "while not correct_input: \n",
        "    user_input = input('Please enter the correct value: ') \n",
        "    if user_input == 'correct': \n",
        "        correct_input = True "
      ],
      "metadata": {
        "colab": {
          "base_uri": "https://localhost:8080/"
        },
        "id": "u6cCMlZcPRl_",
        "outputId": "85d34cee-6cb6-41b6-80f5-a7a3127bd5c1"
      },
      "execution_count": null,
      "outputs": [
        {
          "name": "stdout",
          "output_type": "stream",
          "text": [
            "Please enter the correct value: correct\n"
          ]
        }
      ]
    },
    {
      "cell_type": "markdown",
      "source": [
        "**Q2 Write a python program to print the sum and product of the first 10 natural numbers using for\n",
        "and while loop.**"
      ],
      "metadata": {
        "id": "Ej0dJItI5WDl"
      }
    },
    {
      "cell_type": "code",
      "source": [
        "sum = 0\n",
        "for i in range(11):\n",
        "  sum += i\n",
        "print(\"For loop: \"+ str(sum))\n",
        "\n",
        "sum,i = 0,1\n",
        "while i <11:\n",
        "  sum +=i\n",
        "  i += 1\n",
        "print(\"While loop: \"+str(sum))"
      ],
      "metadata": {
        "colab": {
          "base_uri": "https://localhost:8080/"
        },
        "id": "XbNSF6Wh5jZC",
        "outputId": "ad6b062a-da9b-4638-b8c4-ee99e7c00360"
      },
      "execution_count": null,
      "outputs": [
        {
          "output_type": "stream",
          "name": "stdout",
          "text": [
            "For loop: 55\n",
            "While loop: 55\n"
          ]
        }
      ]
    },
    {
      "cell_type": "markdown",
      "source": [
        "**Create a python program to compute the electricity bill for a household. The per-unit charges in rupees are as follows: For the first 100 units, the user will be charged Rs. 4.5 per unit, for the next 100 units, the user will be charged Rs. 6 per unit, and for the next 100 units, the user will\n",
        "be charged Rs. 10 per unit, After 300 units and above the user will be charged Rs. 20 per unit. You are required to take the units of electricity consumed in a month from the user as input. Your program must pass this test case: when the unit of electricity consumed by the user in a month is\n",
        "310, the total electricity bill should be 2250.**"
      ],
      "metadata": {
        "id": "akd-YDOG7cZB"
      }
    },
    {
      "cell_type": "code",
      "source": [
        "unit = int(input(\"Electricity consumed in Units: \"))\n",
        "i = 0\n",
        "total  = 0\n",
        "if unit <= 100:\n",
        "  total = unit*4.5\n",
        "elif unit <=200:\n",
        "  total  = 100*4.5 + (unit-100)*6\n",
        "elif unit <=300:\n",
        "  total = 100 *4.5 + 100*6 + (unit-200)*10\n",
        "else:\n",
        "  total = 100 *4.5 + 100*6 + 100*10+(unit-300)*20  \n",
        "print(\"Total Electricity Bill: \"+ str(total)) \n",
        "\n"
      ],
      "metadata": {
        "colab": {
          "base_uri": "https://localhost:8080/"
        },
        "id": "xA6WATeb70oY",
        "outputId": "807179af-08dd-43e7-e9e6-7f8eaed35bde"
      },
      "execution_count": null,
      "outputs": [
        {
          "output_type": "stream",
          "name": "stdout",
          "text": [
            "Electricity consumed in Units: 310\n",
            "Total Electricity Bill: 2250.0\n"
          ]
        }
      ]
    },
    {
      "cell_type": "markdown",
      "source": [
        "**Q4. Create a list of numbers from 1 to 100. Use for loop and while loop to calculate the cube of each\n",
        "number and if the cube of that number is divisible by 4 or 5 then append that number in a list and print\n",
        "that list.**"
      ],
      "metadata": {
        "id": "f_ibyZvH7n2g"
      }
    },
    {
      "cell_type": "code",
      "source": [
        "\n",
        "#Create a list of numbers from 1 to 100\n",
        "list_of_numbers=[i for i in range(1, 101)]\n",
        "\n",
        "#Use for loop to calculate the cube of each number\n",
        "cube_of_each_number=[]\n",
        "for num in list_of_numbers:\n",
        "    cube=num**3\n",
        "    cube_of_each_number.append(cube)\n",
        "\n",
        "#Use while loop to append the number if its cube is divisible by 4 or 5\n",
        "new_list=[]\n",
        "i = 0\n",
        "while i < len(cube_of_each_number): \n",
        "    if cube_of_each_number[i] % 4 == 0 or cube_of_each_number[i] % 5 == 0: \n",
        "        new_list.append(list_of_numbers[i]) \n",
        "    i += 1\n",
        "\n",
        "#Print the list\n",
        "print(new_list)"
      ],
      "metadata": {
        "id": "c6cIfesN6FEG",
        "colab": {
          "base_uri": "https://localhost:8080/"
        },
        "outputId": "a4b5fa2c-ed33-4823-bca5-8d7cb8071bc6"
      },
      "execution_count": null,
      "outputs": [
        {
          "output_type": "stream",
          "name": "stdout",
          "text": [
            "[2, 4, 5, 6, 8, 10, 12, 14, 15, 16, 18, 20, 22, 24, 25, 26, 28, 30, 32, 34, 35, 36, 38, 40, 42, 44, 45, 46, 48, 50, 52, 54, 55, 56, 58, 60, 62, 64, 65, 66, 68, 70, 72, 74, 75, 76, 78, 80, 82, 84, 85, 86, 88, 90, 92, 94, 95, 96, 98, 100]\n"
          ]
        }
      ]
    },
    {
      "cell_type": "markdown",
      "source": [
        "**Q5. Write a program to filter count vowels in the below-given string.\n",
        "string = \"I want to become a data scientist\"**"
      ],
      "metadata": {
        "id": "MGvH2ppZ75ff"
      }
    },
    {
      "cell_type": "code",
      "source": [
        "vowels = ['a','e','i','o','u']\n",
        "string = \"I want to become a data scientist\"\n",
        "count = 0\n",
        "for i in list(string.lower()):\n",
        "  if i in vowels:\n",
        "    count +=1\n",
        "print(\"vowels count:\"+ str(count))"
      ],
      "metadata": {
        "colab": {
          "base_uri": "https://localhost:8080/"
        },
        "id": "zI2QhINk797A",
        "outputId": "00c2b9fa-1369-4b01-ae77-898c9a91bbe4"
      },
      "execution_count": null,
      "outputs": [
        {
          "output_type": "stream",
          "name": "stdout",
          "text": [
            "vowels count:12\n"
          ]
        }
      ]
    }
  ]
}
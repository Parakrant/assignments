{
 "cells": [
  {
   "attachments": {},
   "cell_type": "markdown",
   "metadata": {},
   "source": [
    "`Q1: Explain the following with an example:`\n",
    "1. Artificial Intelligence\n",
    "2. Machine Learning\n",
    "3. Deep Learning\n",
    "\n",
    "`Answer`\n",
    "\n",
    "1. Artificial Intelligence (AI) - An example of AI is a chatbot like Apple's Siri or Amazon's Alexa. These virtual assistants can understand natural language and carry out tasks like setting reminders, answering questions, or playing music. They use complex algorithms and machine learning techniques to interpret and respond to human input.\n",
    "\n",
    "2. Machine Learning - An example of machine learning is a spam email filter. The algorithm learns from previous examples of spam emails to identify patterns and then uses this information to filter out similar emails in the future. With each new example, the algorithm becomes more accurate at detecting spam emails.\n",
    "\n",
    "2. Deep Learning - An example of deep learning is image recognition. A deep learning algorithm, such as a convolutional neural network (CNN), can analyze millions of images and learn to identify patterns in the data, such as shapes, colors, and textures. Once trained, the CNN can accurately recognize and classify new images, such as identifying whether a picture contains a dog or a cat or more complex like human."
   ]
  },
  {
   "attachments": {},
   "cell_type": "markdown",
   "metadata": {},
   "source": [
    "`Q2: What is supervised learning? List some examples  of supervised learning.`\n",
    "\n",
    "`Answer:`\n",
    "\n",
    "Supervised learning is a type of machine learning where we train the computer algorithm using labeled data. It's like giving the computer a set of examples and telling it what each example represents, and then asking it to generalize that knowledge to new, unseen examples.\n",
    "\n",
    "For instance, imagine that you have a bunch of pictures of animals, and you want to teach the computer to recognize which animals are cats and which are dogs. You would give the computer a set of labeled examples, where each picture is labeled as either \"cat\" or \"dog\". The computer would then learn to recognize the key features that distinguish cats from dogs and use that knowledge to predict the label of new, unseen pictures.\n",
    "\n",
    "Some examples of supervised learning include image classification, where the computer learns to identify different objects in images; sentiment analysis, where the computer learns to classify text as positive, negative, or neutral; and fraud detection, where the computer learns to identify fraudulent transactions based on historical data.\n",
    "\n",
    "Supervised learning is a fundamental technique in machine learning, and it has many applications in areas such as computer vision, natural language processing, and predictive modeling."
   ]
  }
 ],
 "metadata": {
  "language_info": {
   "name": "python"
  },
  "orig_nbformat": 4
 },
 "nbformat": 4,
 "nbformat_minor": 2
}

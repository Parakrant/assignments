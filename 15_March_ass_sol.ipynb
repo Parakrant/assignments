{
 "cells": [
  {
   "attachments": {},
   "cell_type": "markdown",
   "metadata": {},
   "source": [
    "`Q1: Explain the following with an example:`\n",
    "1. Artificial Intelligence\n",
    "2. Machine Learning\n",
    "3. Deep Learning\n",
    "\n",
    "`Answer`\n",
    "\n",
    "1. Artificial Intelligence (AI) - An example of AI is a chatbot like Apple's Siri or Amazon's Alexa. These virtual assistants can understand natural language and carry out tasks like setting reminders, answering questions, or playing music. They use complex algorithms and machine learning techniques to interpret and respond to human input.\n",
    "\n",
    "2. Machine Learning - An example of machine learning is a spam email filter. The algorithm learns from previous examples of spam emails to identify patterns and then uses this information to filter out similar emails in the future. With each new example, the algorithm becomes more accurate at detecting spam emails.\n",
    "\n",
    "2. Deep Learning - An example of deep learning is image recognition. A deep learning algorithm, such as a convolutional neural network (CNN), can analyze millions of images and learn to identify patterns in the data, such as shapes, colors, and textures. Once trained, the CNN can accurately recognize and classify new images, such as identifying whether a picture contains a dog or a cat or more complex like human."
   ]
  },
  {
   "attachments": {},
   "cell_type": "markdown",
   "metadata": {},
   "source": [
    "`Q2: What is supervised learning? List some examples  of supervised learning.`\n",
    "\n",
    "`Answer:`\n",
    "\n",
    "Supervised learning is a type of machine learning where we train the computer algorithm using labeled data. It's like giving the computer a set of examples and telling it what each example represents, and then asking it to generalize that knowledge to new, unseen examples.\n",
    "\n",
    "For instance, imagine that you have a bunch of pictures of animals, and you want to teach the computer to recognize which animals are cats and which are dogs. You would give the computer a set of labeled examples, where each picture is labeled as either \"cat\" or \"dog\". The computer would then learn to recognize the key features that distinguish cats from dogs and use that knowledge to predict the label of new, unseen pictures.\n",
    "\n",
    "Some examples of supervised learning include image classification, where the computer learns to identify different objects in images; sentiment analysis, where the computer learns to classify text as positive, negative, or neutral; and fraud detection, where the computer learns to identify fraudulent transactions based on historical data.\n",
    "\n",
    "Supervised learning is a fundamental technique in machine learning, and it has many applications in areas such as computer vision, natural language processing, and predictive modeling."
   ]
  },
  {
   "attachments": {},
   "cell_type": "markdown",
   "metadata": {},
   "source": [
    "`Q3: What is unsupervised learning? List some examples  of unsupervised learning.`\n",
    "\n",
    "`Answer:`\n",
    "\n",
    "Unsupervised learning is a type of machine learning where the computer algorithm is trained on a dataset without any labeled examples. The algorithm looks for patterns and relationships in the data on its own. Examples of unsupervised learning include clustering, dimensionality reduction, and anomaly detection. Unsupervised learning is useful for discovering hidden patterns in complex data and has many applications in various fields."
   ]
  },
  {
   "attachments": {},
   "cell_type": "markdown",
   "metadata": {},
   "source": [
    "`Q4: What is the difference between AI,MLDL and DS?`\n",
    "\n",
    "`Answer:`\n",
    "\n",
    "AI, ML, DL, and DS are related but distinct fields in computer science:\n",
    "\n",
    "Artificial Intelligence (AI) refers to the development of intelligent machines that can perform tasks that would typically require human intelligence, such as visual perception, speech recognition, decision-making, and natural language processing.\n",
    "\n",
    "Machine Learning (ML) is a subset of AI that focuses on the development of algorithms and statistical models that enable machines to learn from data and improve their performance over time without being explicitly programmed.\n",
    "\n",
    "Deep Learning (DL) is a subset of ML that uses artificial neural networks to model and solve complex problems. DL is particularly effective at processing and analyzing large, unstructured datasets such as images, video, and natural language.\n",
    "\n",
    "Data Science (DS) is a broader field that encompasses the entire process of extracting insights and knowledge from data. This includes data cleaning and preparation, statistical analysis, data visualization, and machine learning.\n",
    "\n",
    "In summary, AI is the overarching field that encompasses all other subfields, while ML and DL are specific techniques used within AI to enable machines to learn from data. DS, on the other hand, is a broader field that encompasses the entire process of extracting insights from data, including statistical analysis and machine learning."
   ]
  },
  {
   "attachments": {},
   "cell_type": "markdown",
   "metadata": {},
   "source": [
    "`Q5: What are the main difference between supervised, unsupervised and semi-supervised learning?`\n",
    "\n",
    "`Answer:`\n",
    "\n",
    "Supervised learning uses labeled data to predict a target variable. Unsupervised learning uses unlabeled data to identify patterns and structure. Semi-supervised learning is a combination of both, using labeled data to improve performance on unlabeled data."
   ]
  },
  {
   "attachments": {},
   "cell_type": "markdown",
   "metadata": {},
   "source": [
    "`Q6: What is train, test and validation split? Explain the importance of each term? `\n",
    "\n",
    "`Answer:`\n",
    "\n",
    "Train-test-validation split is a technique used in machine learning to divide a dataset into three subsets: a training set, a validation set, and a test set. The purpose of this split is to evaluate the performance of a model on data it has not seen during training and to prevent overfitting.\n",
    "\n",
    "Training set: The training set is the largest subset of the data and is used to train the model. The model learns from the input data and its corresponding labels to create a predictive model.\n",
    "\n",
    "Validation set: The validation set is used to evaluate the performance of the model during training. The model is not trained on the validation set but rather used to tune the hyperparameters of the model to achieve better performance on the test set.\n",
    "\n",
    "Test set: The test set is used to evaluate the final performance of the model after it has been trained and tuned on the validation set. The test set is used only once to prevent overfitting and to measure the model's ability to generalize to new, unseen data.\n",
    "\n",
    "The importance of each subset is as follows:\n",
    "\n",
    "Training set: The training set is used to create a model that can generalize to new, unseen data. A larger training set will lead to a better model, but there is a tradeoff between the size of the training set and the ability to tune the hyperparameters of the model.\n",
    "\n",
    "Validation set: The validation set is used to evaluate the performance of the model during training and to tune the hyperparameters. The validation set allows us to test different hyperparameter configurations and choose the best performing one.\n",
    "\n",
    "Test set: The test set is used to evaluate the final performance of the model after it has been trained and tuned on the validation set. The test set is used only once to prevent overfitting and to measure the model's ability to generalize to new, unseen data."
   ]
  },
  {
   "attachments": {},
   "cell_type": "markdown",
   "metadata": {},
   "source": [
    "`Q7: What is unsupervised learning? List some examples  of unsupervised learning.`\n",
    "\n",
    "`Answer:`\n",
    "\n",
    "Unsupervised learning can be used in anomaly detection by identifying patterns or structures in the data that deviate significantly from the norm. Anomaly detection is the process of identifying data points that are rare or unusual compared to the rest of the data.\n",
    "\n",
    "One common unsupervised learning algorithm used for anomaly detection is clustering. In clustering, the algorithm identifies groups of data points that are similar to each other based on some measure of similarity, such as distance or density. Data points that do not belong to any cluster or belong to a very small cluster may be considered anomalies.\n",
    "\n",
    "Another unsupervised learning algorithm used for anomaly detection is autoencoders. Autoencoders are neural networks that learn to compress and reconstruct the input data. Anomalies in the data may result in poor reconstruction performance, and the reconstruction error can be used to detect anomalies."
   ]
  },
  {
   "attachments": {},
   "cell_type": "markdown",
   "metadata": {},
   "source": [
    "`Q8: List down some commonly used supervised learning algorithms and unsupervised algorithms`\n",
    "\n",
    "`Answer:`\n",
    "Some commonly used supervised learning algorithms include:\n",
    "\n",
    "1. Linear Regression\n",
    "2. Logistic Regression\n",
    "3. Decision Trees\n",
    "4. Random Forest\n",
    "5. Support Vector Machines (SVM)\n",
    "6. K-Nearest Neighbors (KNN)\n",
    "7. Neural Networks\n",
    "\n",
    "Some commonly used unsupervised learning algorithms include:\n",
    "\n",
    "1. K-Means Clustering\n",
    "2. Hierarchical Clustering\n",
    "3. Principal Component Analysis (PCA)\n",
    "4. Anomaly Detection\n",
    "5. t-Distributed Stochastic Neighbor Embedding (t-SNE)\n",
    "6. Apriori Algorithm\n"
   ]
  }
 ],
 "metadata": {
  "language_info": {
   "name": "python"
  },
  "orig_nbformat": 4
 },
 "nbformat": 4,
 "nbformat_minor": 2
}
